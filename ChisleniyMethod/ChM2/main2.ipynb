{
 "cells": [
  {
   "cell_type": "code",
   "execution_count": null,
   "metadata": {
    "pycharm": {
     "is_executing": true,
     "name": "#%%\n"
    }
   },
   "outputs": [
    {
     "name": "stdout",
     "output_type": "stream",
     "text": [
      "0\n"
     ]
    },
    {
     "name": "stderr",
     "output_type": "stream",
     "text": [
      "<ipython-input-1-d0c41761e4b9>:30: RuntimeWarning: invalid value encountered in double_scalars\n",
      "  L = lambda  x,y, z: (2*x+y-x*z)/x*x\n"
     ]
    }
   ],
   "source": [
    "import numpy as np\n",
    "import math as m\n",
    "import matplotlib.pyplot as plt\n",
    "import tabulate as tab\n",
    "def Subtract(arr1, arr2):    \n",
    "    res = np.zeros(len(arr1))\n",
    "    for i in range(len(arr1)):\n",
    "        res[i] = arr1[i] - arr2[i*2]    \n",
    "    return res\n",
    "def find(size,y_0,x_0,h):\n",
    "    tmp=0\n",
    "    while True:\n",
    "        Y = np.zeros(size+1)    \n",
    "        Z = np.zeros(size+1)    \n",
    "        X = np.zeros(size+1)    \n",
    "        Y[0]=y_0    \n",
    "        Z[0] = tmp    \n",
    "        X[0]=x_0\n",
    "\n",
    "        for i in range(size):\n",
    "            X[i+1] = X[i]+h   \n",
    "            Y[i+1] = Y[i]+h*Z[i]\n",
    "            Z[i+1] = Z[i]+h*L(X[i],Y[i],Z[i])        \n",
    "        if(Y[size] < y_1):\n",
    "            tmp+=0.001\n",
    "        else:\n",
    "            break\n",
    "    return tmp\n",
    "\n",
    "L = lambda  x,y, z: (2*x+y-x*z)/x*x\n",
    "#12 z: 2*m.exp(2*x)-z \n",
    "#14 z: 2-z\n",
    "#16 z: m.exp(2*x)+z\n",
    "#21 \n",
    "#22 z: (2*x+y-x*z)/x**2\n",
    "#23 z: 1-z*m.pi**2\n",
    "\n",
    "a = 0\n",
    "b = 1\n",
    "n1 = 10\n",
    "n2 = n1*2\n",
    "eps = 1e-6\n",
    "\n",
    "x_0=a\n",
    "y_0=0\n",
    "y_1=0\n",
    "print(y_1)\n",
    "h1 = (b - a)/n1\n",
    "h2 = (b - a)/n2\n",
    "\n",
    "tmp=find(n1,y_0,x_0,h1)\n",
    "        \n",
    "while True:   \n",
    "    \n",
    "    h1 = (b - a)/n1\n",
    "    h2 = (b - a)/n2\n",
    "    Y1 = np.zeros(n1+1)\n",
    "    Y2 = np.zeros(n2+1)\n",
    "    Z1 = np.zeros(n1+1)\n",
    "    Z2 = np.zeros(n2+1)\n",
    "    X1 = np.zeros(n1+1)\n",
    "    X2 = np.zeros(n2+1)\n",
    "    Y1[0]=y_0\n",
    "    Y2[0]=y_0\n",
    "    Z1[0]=tmp\n",
    "    Z2[0] = find(n2,y_0,x_0,h2)\n",
    "    X1[0]=x_0\n",
    "    X2[0]=x_0\n",
    "    for i in range(n1):\n",
    "        X1[i+1] = X1[i]+h1   \n",
    "        Y1[i+1] = Y1[i]+h1*Z1[i]\n",
    "        Z1[i+1] = Z1[i]+h1*L(X1[i],Y1[i],Z1[i])\n",
    "    for i in range(n2):    \n",
    "        X2[i+1] = X2[i]+h2   \n",
    "        Y2[i+1] = Y2[i]+h2*Z2[i]\n",
    "        Z2[i+1] = Z2[i]+h2*L(X2[i],Y2[i],Z2[i]) \n",
    "    \n",
    "#     print((np.sum(np.power(Subtract(Y1, Y2), 2)))/(n1+1))    \n",
    "    if (np.sum(np.power(Subtract(Y1, Y2), 2)))/(n1+1) < eps:\n",
    "        break\n",
    "    tmp=Z2[0]    \n",
    "    n1 = n2\n",
    "    n2 *= 2\n",
    "plt.plot(X1,Y1)\n",
    "plt.plot(X2,Y2)\n",
    "plt.show()\n",
    "data=np.zeros((n1+1,2))\n",
    "for i in range(n1+1):\n",
    "    data[i][0]=X1[i]\n",
    "    data[i][1]=Y1[i]\n",
    "f=open('12.txt','w')\n",
    "f.write(tab.tabulate(data,headers=[\"X\",\"Y\"]))\n",
    "f.close()\n",
    "print(\"answer:\",n1)"
   ]
  },
  {
   "cell_type": "code",
   "execution_count": null,
   "metadata": {
    "pycharm": {
     "name": "#%%\n"
    }
   },
   "outputs": [],
   "source": [
    "for i in range(n1+1):\n",
    "    print(X1[i] ,Y1[i] ,Z1[i])"
   ]
  },
  {
   "cell_type": "code",
   "execution_count": null,
   "metadata": {
    "pycharm": {
     "name": "#%%\n"
    }
   },
   "outputs": [],
   "source": [
    "for i in range(n2+1):\n",
    "    print(X2[i],'\\t',Y2[i],'\\t',Z2[i])\n",
    "\n",
    "\n",
    "\n",
    "\n",
    "\n",
    "\n",
    "\n",
    "\n"
   ]
  }
 ],
 "metadata": {
  "kernelspec": {
   "display_name": "Python 3",
   "language": "python",
   "name": "python3"
  },
  "language_info": {
   "codemirror_mode": {
    "name": "ipython",
    "version": 3
   },
   "file_extension": ".py",
   "mimetype": "text/x-python",
   "name": "python",
   "nbconvert_exporter": "python",
   "pygments_lexer": "ipython3",
   "version": "3.8.1"
  },
  "pycharm": {
   "stem_cell": {
    "cell_type": "raw",
    "source": [],
    "metadata": {
     "collapsed": false
    }
   }
  }
 },
 "nbformat": 4,
 "nbformat_minor": 1
}